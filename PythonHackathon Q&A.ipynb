{
 "cells": [
  {
   "cell_type": "markdown",
   "id": "cd03dc31",
   "metadata": {},
   "source": [
    "# Question 41 - 60"
   ]
  },
  {
   "cell_type": "code",
   "execution_count": 1,
   "id": "4ad3ce11",
   "metadata": {},
   "outputs": [],
   "source": [
    "import pandas as pd\n",
    "import re\n",
    "from datetime import datetime, date\n",
    "import numpy as np\n",
    "import matplotlib.pyplot as plt\n",
    "import seaborn as sns"
   ]
  },
  {
   "cell_type": "markdown",
   "id": "4231edc4",
   "metadata": {},
   "source": [
    "### 41. Find the visit type with maximum 'No Show'"
   ]
  },
  {
   "cell_type": "code",
   "execution_count": 2,
   "id": "d10b2028",
   "metadata": {},
   "outputs": [
    {
     "data": {
      "text/plain": [
       "Telemedicine    74\n",
       "Name: VisitType, dtype: int64"
      ]
     },
     "execution_count": 2,
     "metadata": {},
     "output_type": "execute_result"
    }
   ],
   "source": [
    "AmbulatoryVisits = pd.read_excel(\"HospitalDatabase.xlsx\",sheet_name= \"AmbulatoryVisits\")\n",
    "AmbulatoryVisits.head()\n",
    "max_count = AmbulatoryVisits[AmbulatoryVisits[\"VisitStatus\"]==\"No Show\"]\n",
    "max_count[\"VisitType\"].value_counts()[:1]\n",
    "# AmbulatoryVisits[AmbulatoryVisits[\"VisitStatus\"]==\"No Show\"][\"VisitType\"].value_counts()[:1]"
   ]
  },
  {
   "cell_type": "markdown",
   "id": "79fd7bac",
   "metadata": {},
   "source": [
    "### 42.Using loc , get the details of the providers where providerId is between 11 and 20 and ProviderSpecialty is Surgery"
   ]
  },
  {
   "cell_type": "code",
   "execution_count": 3,
   "id": "8f045901",
   "metadata": {},
   "outputs": [
    {
     "data": {
      "text/html": [
       "<div>\n",
       "<style scoped>\n",
       "    .dataframe tbody tr th:only-of-type {\n",
       "        vertical-align: middle;\n",
       "    }\n",
       "\n",
       "    .dataframe tbody tr th {\n",
       "        vertical-align: top;\n",
       "    }\n",
       "\n",
       "    .dataframe thead th {\n",
       "        text-align: right;\n",
       "    }\n",
       "</style>\n",
       "<table border=\"1\" class=\"dataframe\">\n",
       "  <thead>\n",
       "    <tr style=\"text-align: right;\">\n",
       "      <th></th>\n",
       "      <th>ProviderID</th>\n",
       "      <th>ProviderName</th>\n",
       "      <th>ProviderSpecialty</th>\n",
       "      <th>ProviderDateOnStaff</th>\n",
       "    </tr>\n",
       "  </thead>\n",
       "  <tbody>\n",
       "    <tr>\n",
       "      <th>10</th>\n",
       "      <td>11</td>\n",
       "      <td>Kim Kimberly</td>\n",
       "      <td>Surgery</td>\n",
       "      <td>1998-05-10 14:47:29.468</td>\n",
       "    </tr>\n",
       "    <tr>\n",
       "      <th>11</th>\n",
       "      <td>12</td>\n",
       "      <td>Sarah Ab</td>\n",
       "      <td>Surgery</td>\n",
       "      <td>1998-08-18 05:22:40.762</td>\n",
       "    </tr>\n",
       "    <tr>\n",
       "      <th>12</th>\n",
       "      <td>13</td>\n",
       "      <td>Abigail Marriot</td>\n",
       "      <td>Surgery</td>\n",
       "      <td>1998-11-08 12:25:45.705</td>\n",
       "    </tr>\n",
       "    <tr>\n",
       "      <th>13</th>\n",
       "      <td>14</td>\n",
       "      <td>Dave Yu</td>\n",
       "      <td>Surgery</td>\n",
       "      <td>1999-06-26 16:18:57.436</td>\n",
       "    </tr>\n",
       "    <tr>\n",
       "      <th>14</th>\n",
       "      <td>15</td>\n",
       "      <td>Christian Saint</td>\n",
       "      <td>Surgery</td>\n",
       "      <td>2000-08-27 00:12:40.326</td>\n",
       "    </tr>\n",
       "    <tr>\n",
       "      <th>15</th>\n",
       "      <td>16</td>\n",
       "      <td>Perry Pardon</td>\n",
       "      <td>Surgery</td>\n",
       "      <td>2001-02-13 11:49:17.862</td>\n",
       "    </tr>\n",
       "  </tbody>\n",
       "</table>\n",
       "</div>"
      ],
      "text/plain": [
       "    ProviderID     ProviderName ProviderSpecialty     ProviderDateOnStaff\n",
       "10          11     Kim Kimberly           Surgery 1998-05-10 14:47:29.468\n",
       "11          12         Sarah Ab           Surgery 1998-08-18 05:22:40.762\n",
       "12          13  Abigail Marriot           Surgery 1998-11-08 12:25:45.705\n",
       "13          14          Dave Yu           Surgery 1999-06-26 16:18:57.436\n",
       "14          15  Christian Saint           Surgery 2000-08-27 00:12:40.326\n",
       "15          16     Perry Pardon           Surgery 2001-02-13 11:49:17.862"
      ]
     },
     "execution_count": 3,
     "metadata": {},
     "output_type": "execute_result"
    }
   ],
   "source": [
    "Providers = pd.read_excel(\"HospitalDatabase.xlsx\",sheet_name= \"Providers\")\n",
    "Providers_fil = Providers[Providers[\"ProviderSpecialty\"]==\"Surgery\"]\n",
    "Providers_fil.head()\n",
    "Providers_fil.loc[10:19]"
   ]
  },
  {
   "cell_type": "markdown",
   "id": "81b3b5f7",
   "metadata": {},
   "source": [
    "### 43. Write a regular expression to find all the digits and numbers in the string"
   ]
  },
  {
   "cell_type": "code",
   "execution_count": 4,
   "id": "705a52ef",
   "metadata": {},
   "outputs": [
    {
     "name": "stdout",
     "output_type": "stream",
     "text": [
      "['9', '162', '666688888']\n"
     ]
    }
   ],
   "source": [
    "str = 'We live at 9-162 magnolia. My phone number is 666688888.'\n",
    "x = re.findall('[0-9]+', str)\n",
    "print(x)"
   ]
  },
  {
   "cell_type": "markdown",
   "id": "f1616c5b",
   "metadata": {},
   "source": [
    "### 21. Which demographic patients are prone to get stroke"
   ]
  },
  {
   "cell_type": "code",
   "execution_count": 5,
   "id": "5fa44260",
   "metadata": {},
   "outputs": [
    {
     "data": {
      "text/plain": [
       "Black/African-American    40\n",
       "White                     28\n",
       "Name: Race, dtype: int64"
      ]
     },
     "execution_count": 5,
     "metadata": {},
     "output_type": "execute_result"
    }
   ],
   "source": [
    "Patients = pd.read_excel(\"HospitalDatabase.xlsx\",sheet_name= \"Patients\") \n",
    "now = datetime.now()\n",
    "Patients[\"Age\"] =(now - Patients['DateOfBirth'])/np.timedelta64(1,'Y')\n",
    "Patients.head()\n",
    "ReAdmissionRegistry = pd.read_excel(\"HospitalDatabase.xlsx\",sheet_name= \"ReAdmissionRegistry\")\n",
    "df = pd.merge(Patients, ReAdmissionRegistry,how='inner',on=[\"PatientID\"])\n",
    "a = df[df[\"PrimaryDiagnosis\"] == \"Stroke\"]\n",
    "a[\"Race\"].value_counts()"
   ]
  },
  {
   "cell_type": "markdown",
   "id": "514cef63",
   "metadata": {},
   "source": [
    "### 44. Create a pivot table displaying average LOS based on Service and Primary Diagnosis"
   ]
  },
  {
   "cell_type": "code",
   "execution_count": 6,
   "id": "c19085ab",
   "metadata": {},
   "outputs": [
    {
     "data": {
      "text/html": [
       "<div>\n",
       "<style scoped>\n",
       "    .dataframe tbody tr th:only-of-type {\n",
       "        vertical-align: middle;\n",
       "    }\n",
       "\n",
       "    .dataframe tbody tr th {\n",
       "        vertical-align: top;\n",
       "    }\n",
       "\n",
       "    .dataframe thead tr th {\n",
       "        text-align: left;\n",
       "    }\n",
       "\n",
       "    .dataframe thead tr:last-of-type th {\n",
       "        text-align: right;\n",
       "    }\n",
       "</style>\n",
       "<table border=\"1\" class=\"dataframe\">\n",
       "  <thead>\n",
       "    <tr>\n",
       "      <th></th>\n",
       "      <th colspan=\"17\" halign=\"left\">LOS</th>\n",
       "    </tr>\n",
       "    <tr>\n",
       "      <th>PrimaryDiagnosis</th>\n",
       "      <th>AMI</th>\n",
       "      <th>Afib</th>\n",
       "      <th>Broken Leg</th>\n",
       "      <th>Diabetes</th>\n",
       "      <th>Fever</th>\n",
       "      <th>Flu</th>\n",
       "      <th>Heart Failure</th>\n",
       "      <th>Hip Fracture</th>\n",
       "      <th>Hypertension</th>\n",
       "      <th>Kidney Failure</th>\n",
       "      <th>Knee Replacement</th>\n",
       "      <th>Laceration</th>\n",
       "      <th>Migraine</th>\n",
       "      <th>Pain</th>\n",
       "      <th>Pneumonia</th>\n",
       "      <th>Spinal Cord Injury</th>\n",
       "      <th>Stroke</th>\n",
       "    </tr>\n",
       "    <tr>\n",
       "      <th>Service</th>\n",
       "      <th></th>\n",
       "      <th></th>\n",
       "      <th></th>\n",
       "      <th></th>\n",
       "      <th></th>\n",
       "      <th></th>\n",
       "      <th></th>\n",
       "      <th></th>\n",
       "      <th></th>\n",
       "      <th></th>\n",
       "      <th></th>\n",
       "      <th></th>\n",
       "      <th></th>\n",
       "      <th></th>\n",
       "      <th></th>\n",
       "      <th></th>\n",
       "      <th></th>\n",
       "    </tr>\n",
       "  </thead>\n",
       "  <tbody>\n",
       "    <tr>\n",
       "      <th>Cardiology</th>\n",
       "      <td>10 days 17:50:17.068400</td>\n",
       "      <td>11 days 16:43:04.519200</td>\n",
       "      <td>10 days 22:44:11.476333333</td>\n",
       "      <td>NaT</td>\n",
       "      <td>NaT</td>\n",
       "      <td>12 days 10:08:21.363000</td>\n",
       "      <td>9 days 22:33:05.353871794</td>\n",
       "      <td>NaT</td>\n",
       "      <td>NaT</td>\n",
       "      <td>4 days 16:16:06.782000</td>\n",
       "      <td>NaT</td>\n",
       "      <td>NaT</td>\n",
       "      <td>NaT</td>\n",
       "      <td>NaT</td>\n",
       "      <td>NaT</td>\n",
       "      <td>NaT</td>\n",
       "      <td>NaT</td>\n",
       "    </tr>\n",
       "    <tr>\n",
       "      <th>General Medicine</th>\n",
       "      <td>NaT</td>\n",
       "      <td>NaT</td>\n",
       "      <td>13 days 06:02:10.045666666</td>\n",
       "      <td>10 days 20:03:59.416736842</td>\n",
       "      <td>8 days 11:16:36.716307692</td>\n",
       "      <td>10 days 10:02:10.029796296</td>\n",
       "      <td>NaT</td>\n",
       "      <td>NaT</td>\n",
       "      <td>9 days 11:41:31.025285714</td>\n",
       "      <td>11 days 04:34:51.031000</td>\n",
       "      <td>NaT</td>\n",
       "      <td>9 days 22:50:48.247238095</td>\n",
       "      <td>NaT</td>\n",
       "      <td>NaT</td>\n",
       "      <td>9 days 21:13:40.546417910</td>\n",
       "      <td>NaT</td>\n",
       "      <td>11 days 18:15:50.278900</td>\n",
       "    </tr>\n",
       "    <tr>\n",
       "      <th>Hospitalist</th>\n",
       "      <td>10 days 00:30:31.743000</td>\n",
       "      <td>NaT</td>\n",
       "      <td>8 days 06:38:49.924666666</td>\n",
       "      <td>9 days 07:46:16.835153846</td>\n",
       "      <td>10 days 21:50:58.966666666</td>\n",
       "      <td>9 days 05:05:03.015473684</td>\n",
       "      <td>NaT</td>\n",
       "      <td>NaT</td>\n",
       "      <td>11 days 07:55:37.157333333</td>\n",
       "      <td>10 days 14:39:50.273666666</td>\n",
       "      <td>6 days 16:40:18.171000</td>\n",
       "      <td>9 days 13:37:12.731714285</td>\n",
       "      <td>NaT</td>\n",
       "      <td>NaT</td>\n",
       "      <td>9 days 10:49:58.554321428</td>\n",
       "      <td>NaT</td>\n",
       "      <td>16 days 14:13:23.627000</td>\n",
       "    </tr>\n",
       "    <tr>\n",
       "      <th>ICU</th>\n",
       "      <td>12 days 14:59:32.471600</td>\n",
       "      <td>6 days 22:18:35.647000</td>\n",
       "      <td>NaT</td>\n",
       "      <td>NaT</td>\n",
       "      <td>13 days 22:11:21.610000</td>\n",
       "      <td>8 days 09:49:41.249333333</td>\n",
       "      <td>9 days 22:36:01.571181818</td>\n",
       "      <td>NaT</td>\n",
       "      <td>8 days 20:04:45.589750</td>\n",
       "      <td>11 days 13:33:12.198000</td>\n",
       "      <td>NaT</td>\n",
       "      <td>15 days 06:58:47.690000</td>\n",
       "      <td>NaT</td>\n",
       "      <td>NaT</td>\n",
       "      <td>8 days 17:45:16.204662337</td>\n",
       "      <td>10 days 14:06:30.254500</td>\n",
       "      <td>10 days 22:19:35.242380952</td>\n",
       "    </tr>\n",
       "    <tr>\n",
       "      <th>Neurology</th>\n",
       "      <td>9 days 07:53:41.872500</td>\n",
       "      <td>NaT</td>\n",
       "      <td>NaT</td>\n",
       "      <td>NaT</td>\n",
       "      <td>NaT</td>\n",
       "      <td>7 days 19:17:45.169000</td>\n",
       "      <td>13 days 14:46:28.502166666</td>\n",
       "      <td>NaT</td>\n",
       "      <td>9 days 18:36:03.262200</td>\n",
       "      <td>NaT</td>\n",
       "      <td>NaT</td>\n",
       "      <td>NaT</td>\n",
       "      <td>9 days 00:19:27.839166666</td>\n",
       "      <td>10 days 21:28:22.693000</td>\n",
       "      <td>10 days 04:09:23.866600</td>\n",
       "      <td>NaT</td>\n",
       "      <td>10 days 00:19:40.793192307</td>\n",
       "    </tr>\n",
       "    <tr>\n",
       "      <th>Orthopeadics</th>\n",
       "      <td>NaT</td>\n",
       "      <td>NaT</td>\n",
       "      <td>NaT</td>\n",
       "      <td>NaT</td>\n",
       "      <td>NaT</td>\n",
       "      <td>NaT</td>\n",
       "      <td>NaT</td>\n",
       "      <td>9 days 17:32:33.319695652</td>\n",
       "      <td>NaT</td>\n",
       "      <td>NaT</td>\n",
       "      <td>9 days 21:53:09.485727272</td>\n",
       "      <td>NaT</td>\n",
       "      <td>NaT</td>\n",
       "      <td>NaT</td>\n",
       "      <td>NaT</td>\n",
       "      <td>NaT</td>\n",
       "      <td>NaT</td>\n",
       "    </tr>\n",
       "  </tbody>\n",
       "</table>\n",
       "</div>"
      ],
      "text/plain": [
       "                                     LOS                          \\\n",
       "PrimaryDiagnosis                     AMI                    Afib   \n",
       "Service                                                            \n",
       "Cardiology       10 days 17:50:17.068400 11 days 16:43:04.519200   \n",
       "General Medicine                     NaT                     NaT   \n",
       "Hospitalist      10 days 00:30:31.743000                     NaT   \n",
       "ICU              12 days 14:59:32.471600  6 days 22:18:35.647000   \n",
       "Neurology         9 days 07:53:41.872500                     NaT   \n",
       "Orthopeadics                         NaT                     NaT   \n",
       "\n",
       "                                                                        \\\n",
       "PrimaryDiagnosis                 Broken Leg                   Diabetes   \n",
       "Service                                                                  \n",
       "Cardiology       10 days 22:44:11.476333333                        NaT   \n",
       "General Medicine 13 days 06:02:10.045666666 10 days 20:03:59.416736842   \n",
       "Hospitalist       8 days 06:38:49.924666666  9 days 07:46:16.835153846   \n",
       "ICU                                     NaT                        NaT   \n",
       "Neurology                               NaT                        NaT   \n",
       "Orthopeadics                            NaT                        NaT   \n",
       "\n",
       "                                                                        \\\n",
       "PrimaryDiagnosis                      Fever                        Flu   \n",
       "Service                                                                  \n",
       "Cardiology                              NaT    12 days 10:08:21.363000   \n",
       "General Medicine  8 days 11:16:36.716307692 10 days 10:02:10.029796296   \n",
       "Hospitalist      10 days 21:50:58.966666666  9 days 05:05:03.015473684   \n",
       "ICU                 13 days 22:11:21.610000  8 days 09:49:41.249333333   \n",
       "Neurology                               NaT     7 days 19:17:45.169000   \n",
       "Orthopeadics                            NaT                        NaT   \n",
       "\n",
       "                                                                       \\\n",
       "PrimaryDiagnosis              Heart Failure              Hip Fracture   \n",
       "Service                                                                 \n",
       "Cardiology        9 days 22:33:05.353871794                       NaT   \n",
       "General Medicine                        NaT                       NaT   \n",
       "Hospitalist                             NaT                       NaT   \n",
       "ICU               9 days 22:36:01.571181818                       NaT   \n",
       "Neurology        13 days 14:46:28.502166666                       NaT   \n",
       "Orthopeadics                            NaT 9 days 17:32:33.319695652   \n",
       "\n",
       "                                                                        \\\n",
       "PrimaryDiagnosis               Hypertension             Kidney Failure   \n",
       "Service                                                                  \n",
       "Cardiology                              NaT     4 days 16:16:06.782000   \n",
       "General Medicine  9 days 11:41:31.025285714    11 days 04:34:51.031000   \n",
       "Hospitalist      11 days 07:55:37.157333333 10 days 14:39:50.273666666   \n",
       "ICU                  8 days 20:04:45.589750    11 days 13:33:12.198000   \n",
       "Neurology            9 days 18:36:03.262200                        NaT   \n",
       "Orthopeadics                            NaT                        NaT   \n",
       "\n",
       "                                                                      \\\n",
       "PrimaryDiagnosis          Knee Replacement                Laceration   \n",
       "Service                                                                \n",
       "Cardiology                             NaT                       NaT   \n",
       "General Medicine                       NaT 9 days 22:50:48.247238095   \n",
       "Hospitalist         6 days 16:40:18.171000 9 days 13:37:12.731714285   \n",
       "ICU                                    NaT   15 days 06:58:47.690000   \n",
       "Neurology                              NaT                       NaT   \n",
       "Orthopeadics     9 days 21:53:09.485727272                       NaT   \n",
       "\n",
       "                                                                    \\\n",
       "PrimaryDiagnosis                  Migraine                    Pain   \n",
       "Service                                                              \n",
       "Cardiology                             NaT                     NaT   \n",
       "General Medicine                       NaT                     NaT   \n",
       "Hospitalist                            NaT                     NaT   \n",
       "ICU                                    NaT                     NaT   \n",
       "Neurology        9 days 00:19:27.839166666 10 days 21:28:22.693000   \n",
       "Orthopeadics                           NaT                     NaT   \n",
       "\n",
       "                                                                    \\\n",
       "PrimaryDiagnosis                 Pneumonia      Spinal Cord Injury   \n",
       "Service                                                              \n",
       "Cardiology                             NaT                     NaT   \n",
       "General Medicine 9 days 21:13:40.546417910                     NaT   \n",
       "Hospitalist      9 days 10:49:58.554321428                     NaT   \n",
       "ICU              8 days 17:45:16.204662337 10 days 14:06:30.254500   \n",
       "Neurology          10 days 04:09:23.866600                     NaT   \n",
       "Orthopeadics                           NaT                     NaT   \n",
       "\n",
       "                                             \n",
       "PrimaryDiagnosis                     Stroke  \n",
       "Service                                      \n",
       "Cardiology                              NaT  \n",
       "General Medicine    11 days 18:15:50.278900  \n",
       "Hospitalist         16 days 14:13:23.627000  \n",
       "ICU              10 days 22:19:35.242380952  \n",
       "Neurology        10 days 00:19:40.793192307  \n",
       "Orthopeadics                            NaT  "
      ]
     },
     "execution_count": 6,
     "metadata": {},
     "output_type": "execute_result"
    }
   ],
   "source": [
    "ReAdmissionRegistry = pd.read_excel(\"HospitalDatabase.xlsx\",sheet_name= \"ReAdmissionRegistry\")\n",
    "ReAdmissionRegistry[\"LOS\"]= ReAdmissionRegistry[\"DischargeDate\"] - ReAdmissionRegistry[\"AdmissionDate\"]\n",
    "ReAdmissionRegistry.pivot_table(index=[\"Service\"], columns=[\"PrimaryDiagnosis\"], values=[\"LOS\"],aggfunc=\"mean\")"
   ]
  },
  {
   "cell_type": "markdown",
   "id": "b857d884",
   "metadata": {},
   "source": [
    "### 45. Calculate mortality by diagnosis"
   ]
  },
  {
   "cell_type": "code",
   "execution_count": 7,
   "id": "f72eb833",
   "metadata": {},
   "outputs": [
    {
     "data": {
      "text/plain": [
       "DischargeDisposition  PrimaryDiagnosis  \n",
       "Expired               AMI                    6\n",
       "                      Afib                   4\n",
       "                      Broken Leg             3\n",
       "                      Diabetes               9\n",
       "                      Fever                  4\n",
       "                      Flu                   11\n",
       "                      Heart Failure         16\n",
       "                      Hip Fracture           3\n",
       "                      Hypertension          16\n",
       "                      Kidney Failure         2\n",
       "                      Knee Replacement       2\n",
       "                      Laceration             2\n",
       "                      Pain                   1\n",
       "                      Pneumonia             16\n",
       "                      Spinal Cord Injury     2\n",
       "                      Stroke                 7\n",
       "Name: PatientID, dtype: int64"
      ]
     },
     "execution_count": 7,
     "metadata": {},
     "output_type": "execute_result"
    }
   ],
   "source": [
    "ReAdmissionRegistry = pd.read_excel(\"HospitalDatabase.xlsx\",sheet_name= \"ReAdmissionRegistry\")\n",
    "Mortality_Diag = ReAdmissionRegistry[ReAdmissionRegistry[\"DischargeDisposition\"]==\"Expired\"]\n",
    "Mortality_Diag.groupby([\"DischargeDisposition\",\"PrimaryDiagnosis\"])[\"PatientID\"].count()"
   ]
  },
  {
   "cell_type": "markdown",
   "id": "ceef98e5",
   "metadata": {},
   "source": [
    "### 46. Write a code to split a sentence into words using regex"
   ]
  },
  {
   "cell_type": "code",
   "execution_count": 65,
   "id": "cdd2e4df",
   "metadata": {},
   "outputs": [
    {
     "name": "stdout",
     "output_type": "stream",
     "text": [
      "['She', '_', 's', 'so', '*', 'nice', '!', 'split', 'a', 'sentence', 'into', 'words']\n"
     ]
    }
   ],
   "source": [
    "text = \"\"\"\n",
    "She _ s so * nice!\n",
    "split a sentence into words\n",
    "\"\"\"\n",
    "# matches = re.findall(r'[A-Za-z]+|[^A-Za-z ]', text)\n",
    "matches = re.findall(r'[A-Za-z]+|[^A-Za-z \\n ]', text)\n",
    "print(matches)"
   ]
  },
  {
   "cell_type": "markdown",
   "id": "b41ae188",
   "metadata": {},
   "source": [
    "### 11. Create a pie chart by taking Service= [\"Icu\", \"Neurology\", \"General\", \"Medicine\"] & EcpectedLOS=[10,5,7,9] &explode the wedge with highest LOS"
   ]
  },
  {
   "cell_type": "code",
   "execution_count": 47,
   "id": "adf260a9",
   "metadata": {},
   "outputs": [
    {
     "data": {
      "image/png": "[encoded data removed]",
      "text/plain": [
       "<Figure size 432x288 with 1 Axes>"
      ]
     },
     "metadata": {},
     "output_type": "display_data"
    }
   ],
   "source": [
    "Service= [\"Icu\", \"Neurology\", \"General\", \"Medicine\"]\n",
    "ExpectedLOS=[10,5,7,9]\n",
    "explode = [0.1, 0, 0, 0]\n",
    "palette_color = sns.color_palette('cool')\n",
    "plt.pie(ExpectedLOS, labels=Service, colors=palette_color, explode=explode)\n",
    "plt.show()"
   ]
  },
  {
   "cell_type": "markdown",
   "id": "e9e9a827",
   "metadata": {},
   "source": [
    "### 47. Using indexing ,loc ,retrieve the row with maximum BloodPressureSystolic"
   ]
  },
  {
   "cell_type": "markdown",
   "id": "5b90f4a6",
   "metadata": {},
   "source": [
    "#### Index"
   ]
  },
  {
   "cell_type": "code",
   "execution_count": 10,
   "id": "32e29225",
   "metadata": {
    "scrolled": true
   },
   "outputs": [
    {
     "data": {
      "text/html": [
       "<div>\n",
       "<style scoped>\n",
       "    .dataframe tbody tr th:only-of-type {\n",
       "        vertical-align: middle;\n",
       "    }\n",
       "\n",
       "    .dataframe tbody tr th {\n",
       "        vertical-align: top;\n",
       "    }\n",
       "\n",
       "    .dataframe thead th {\n",
       "        text-align: right;\n",
       "    }\n",
       "</style>\n",
       "<table border=\"1\" class=\"dataframe\">\n",
       "  <thead>\n",
       "    <tr style=\"text-align: right;\">\n",
       "      <th></th>\n",
       "      <th>VisitID</th>\n",
       "      <th>PatientMRN</th>\n",
       "      <th>ProviderID</th>\n",
       "      <th>DateofVisit</th>\n",
       "      <th>DateScheduled</th>\n",
       "      <th>VisitDepartmentID</th>\n",
       "      <th>VisitType</th>\n",
       "      <th>BloodPressureSystolic</th>\n",
       "      <th>BloodPressureDiastolic</th>\n",
       "      <th>Pulse</th>\n",
       "      <th>VisitStatus</th>\n",
       "    </tr>\n",
       "  </thead>\n",
       "  <tbody>\n",
       "    <tr>\n",
       "      <th>236</th>\n",
       "      <td>933</td>\n",
       "      <td>884</td>\n",
       "      <td>27</td>\n",
       "      <td>2019-02-14</td>\n",
       "      <td>2019-01-22 19:26:49.163</td>\n",
       "      <td>12</td>\n",
       "      <td>Telemedicine</td>\n",
       "      <td>190.0</td>\n",
       "      <td>143.989174</td>\n",
       "      <td>74.976879</td>\n",
       "      <td>Completed</td>\n",
       "    </tr>\n",
       "    <tr>\n",
       "      <th>251</th>\n",
       "      <td>888</td>\n",
       "      <td>906</td>\n",
       "      <td>24</td>\n",
       "      <td>2019-03-31</td>\n",
       "      <td>2019-03-17 23:21:17.361</td>\n",
       "      <td>10</td>\n",
       "      <td>New</td>\n",
       "      <td>190.0</td>\n",
       "      <td>137.207999</td>\n",
       "      <td>52.666922</td>\n",
       "      <td>Completed</td>\n",
       "    </tr>\n",
       "    <tr>\n",
       "      <th>424</th>\n",
       "      <td>314</td>\n",
       "      <td>63</td>\n",
       "      <td>7</td>\n",
       "      <td>2019-04-05</td>\n",
       "      <td>2019-03-24 22:31:26.092</td>\n",
       "      <td>11</td>\n",
       "      <td>Telemedicine</td>\n",
       "      <td>190.0</td>\n",
       "      <td>121.539859</td>\n",
       "      <td>95.471260</td>\n",
       "      <td>Completed</td>\n",
       "    </tr>\n",
       "    <tr>\n",
       "      <th>432</th>\n",
       "      <td>740</td>\n",
       "      <td>892</td>\n",
       "      <td>31</td>\n",
       "      <td>2019-03-14</td>\n",
       "      <td>2019-03-11 15:08:33.963</td>\n",
       "      <td>8</td>\n",
       "      <td>Physical</td>\n",
       "      <td>190.0</td>\n",
       "      <td>145.343479</td>\n",
       "      <td>94.849021</td>\n",
       "      <td>Completed</td>\n",
       "    </tr>\n",
       "    <tr>\n",
       "      <th>677</th>\n",
       "      <td>929</td>\n",
       "      <td>880</td>\n",
       "      <td>23</td>\n",
       "      <td>2019-02-10</td>\n",
       "      <td>2019-01-22 13:32:14.549</td>\n",
       "      <td>8</td>\n",
       "      <td>Follow Up</td>\n",
       "      <td>190.0</td>\n",
       "      <td>144.313400</td>\n",
       "      <td>82.781940</td>\n",
       "      <td>Completed</td>\n",
       "    </tr>\n",
       "    <tr>\n",
       "      <th>869</th>\n",
       "      <td>839</td>\n",
       "      <td>857</td>\n",
       "      <td>12</td>\n",
       "      <td>2019-03-17</td>\n",
       "      <td>2019-02-23 09:05:43.676</td>\n",
       "      <td>8</td>\n",
       "      <td>Follow Up</td>\n",
       "      <td>190.0</td>\n",
       "      <td>130.997386</td>\n",
       "      <td>71.829542</td>\n",
       "      <td>Completed</td>\n",
       "    </tr>\n",
       "    <tr>\n",
       "      <th>934</th>\n",
       "      <td>482</td>\n",
       "      <td>866</td>\n",
       "      <td>14</td>\n",
       "      <td>2019-05-04</td>\n",
       "      <td>2019-04-13 07:54:49.580</td>\n",
       "      <td>5</td>\n",
       "      <td>New</td>\n",
       "      <td>190.0</td>\n",
       "      <td>124.736359</td>\n",
       "      <td>69.731779</td>\n",
       "      <td>Canceled</td>\n",
       "    </tr>\n",
       "  </tbody>\n",
       "</table>\n",
       "</div>"
      ],
      "text/plain": [
       "     VisitID  PatientMRN  ProviderID DateofVisit           DateScheduled  \\\n",
       "236      933         884          27  2019-02-14 2019-01-22 19:26:49.163   \n",
       "251      888         906          24  2019-03-31 2019-03-17 23:21:17.361   \n",
       "424      314          63           7  2019-04-05 2019-03-24 22:31:26.092   \n",
       "432      740         892          31  2019-03-14 2019-03-11 15:08:33.963   \n",
       "677      929         880          23  2019-02-10 2019-01-22 13:32:14.549   \n",
       "869      839         857          12  2019-03-17 2019-02-23 09:05:43.676   \n",
       "934      482         866          14  2019-05-04 2019-04-13 07:54:49.580   \n",
       "\n",
       "     VisitDepartmentID     VisitType  BloodPressureSystolic  \\\n",
       "236                 12  Telemedicine                  190.0   \n",
       "251                 10           New                  190.0   \n",
       "424                 11  Telemedicine                  190.0   \n",
       "432                  8      Physical                  190.0   \n",
       "677                  8     Follow Up                  190.0   \n",
       "869                  8     Follow Up                  190.0   \n",
       "934                  5           New                  190.0   \n",
       "\n",
       "     BloodPressureDiastolic      Pulse VisitStatus  \n",
       "236              143.989174  74.976879   Completed  \n",
       "251              137.207999  52.666922   Completed  \n",
       "424              121.539859  95.471260   Completed  \n",
       "432              145.343479  94.849021   Completed  \n",
       "677              144.313400  82.781940   Completed  \n",
       "869              130.997386  71.829542   Completed  \n",
       "934              124.736359  69.731779    Canceled  "
      ]
     },
     "execution_count": 10,
     "metadata": {},
     "output_type": "execute_result"
    }
   ],
   "source": [
    "AmbulatoryVisits = pd.read_excel(\"HospitalDatabase.xlsx\",sheet_name= \"AmbulatoryVisits\")\n",
    "max_value = AmbulatoryVisits[\"BloodPressureSystolic\"].max()\n",
    "AmbulatoryVisits[AmbulatoryVisits[\"BloodPressureSystolic\"]== max_value]"
   ]
  },
  {
   "cell_type": "markdown",
   "id": "b328f019",
   "metadata": {},
   "source": [
    "#### Loc"
   ]
  },
  {
   "cell_type": "code",
   "execution_count": 11,
   "id": "8a333e6e",
   "metadata": {},
   "outputs": [
    {
     "data": {
      "text/html": [
       "<div>\n",
       "<style scoped>\n",
       "    .dataframe tbody tr th:only-of-type {\n",
       "        vertical-align: middle;\n",
       "    }\n",
       "\n",
       "    .dataframe tbody tr th {\n",
       "        vertical-align: top;\n",
       "    }\n",
       "\n",
       "    .dataframe thead th {\n",
       "        text-align: right;\n",
       "    }\n",
       "</style>\n",
       "<table border=\"1\" class=\"dataframe\">\n",
       "  <thead>\n",
       "    <tr style=\"text-align: right;\">\n",
       "      <th></th>\n",
       "      <th>VisitID</th>\n",
       "      <th>PatientMRN</th>\n",
       "      <th>ProviderID</th>\n",
       "      <th>DateofVisit</th>\n",
       "      <th>DateScheduled</th>\n",
       "      <th>VisitDepartmentID</th>\n",
       "      <th>VisitType</th>\n",
       "      <th>BloodPressureSystolic</th>\n",
       "      <th>BloodPressureDiastolic</th>\n",
       "      <th>Pulse</th>\n",
       "      <th>VisitStatus</th>\n",
       "    </tr>\n",
       "  </thead>\n",
       "  <tbody>\n",
       "    <tr>\n",
       "      <th>236</th>\n",
       "      <td>933</td>\n",
       "      <td>884</td>\n",
       "      <td>27</td>\n",
       "      <td>2019-02-14</td>\n",
       "      <td>2019-01-22 19:26:49.163</td>\n",
       "      <td>12</td>\n",
       "      <td>Telemedicine</td>\n",
       "      <td>190.0</td>\n",
       "      <td>143.989174</td>\n",
       "      <td>74.976879</td>\n",
       "      <td>Completed</td>\n",
       "    </tr>\n",
       "    <tr>\n",
       "      <th>251</th>\n",
       "      <td>888</td>\n",
       "      <td>906</td>\n",
       "      <td>24</td>\n",
       "      <td>2019-03-31</td>\n",
       "      <td>2019-03-17 23:21:17.361</td>\n",
       "      <td>10</td>\n",
       "      <td>New</td>\n",
       "      <td>190.0</td>\n",
       "      <td>137.207999</td>\n",
       "      <td>52.666922</td>\n",
       "      <td>Completed</td>\n",
       "    </tr>\n",
       "    <tr>\n",
       "      <th>424</th>\n",
       "      <td>314</td>\n",
       "      <td>63</td>\n",
       "      <td>7</td>\n",
       "      <td>2019-04-05</td>\n",
       "      <td>2019-03-24 22:31:26.092</td>\n",
       "      <td>11</td>\n",
       "      <td>Telemedicine</td>\n",
       "      <td>190.0</td>\n",
       "      <td>121.539859</td>\n",
       "      <td>95.471260</td>\n",
       "      <td>Completed</td>\n",
       "    </tr>\n",
       "    <tr>\n",
       "      <th>432</th>\n",
       "      <td>740</td>\n",
       "      <td>892</td>\n",
       "      <td>31</td>\n",
       "      <td>2019-03-14</td>\n",
       "      <td>2019-03-11 15:08:33.963</td>\n",
       "      <td>8</td>\n",
       "      <td>Physical</td>\n",
       "      <td>190.0</td>\n",
       "      <td>145.343479</td>\n",
       "      <td>94.849021</td>\n",
       "      <td>Completed</td>\n",
       "    </tr>\n",
       "    <tr>\n",
       "      <th>677</th>\n",
       "      <td>929</td>\n",
       "      <td>880</td>\n",
       "      <td>23</td>\n",
       "      <td>2019-02-10</td>\n",
       "      <td>2019-01-22 13:32:14.549</td>\n",
       "      <td>8</td>\n",
       "      <td>Follow Up</td>\n",
       "      <td>190.0</td>\n",
       "      <td>144.313400</td>\n",
       "      <td>82.781940</td>\n",
       "      <td>Completed</td>\n",
       "    </tr>\n",
       "    <tr>\n",
       "      <th>869</th>\n",
       "      <td>839</td>\n",
       "      <td>857</td>\n",
       "      <td>12</td>\n",
       "      <td>2019-03-17</td>\n",
       "      <td>2019-02-23 09:05:43.676</td>\n",
       "      <td>8</td>\n",
       "      <td>Follow Up</td>\n",
       "      <td>190.0</td>\n",
       "      <td>130.997386</td>\n",
       "      <td>71.829542</td>\n",
       "      <td>Completed</td>\n",
       "    </tr>\n",
       "    <tr>\n",
       "      <th>934</th>\n",
       "      <td>482</td>\n",
       "      <td>866</td>\n",
       "      <td>14</td>\n",
       "      <td>2019-05-04</td>\n",
       "      <td>2019-04-13 07:54:49.580</td>\n",
       "      <td>5</td>\n",
       "      <td>New</td>\n",
       "      <td>190.0</td>\n",
       "      <td>124.736359</td>\n",
       "      <td>69.731779</td>\n",
       "      <td>Canceled</td>\n",
       "    </tr>\n",
       "  </tbody>\n",
       "</table>\n",
       "</div>"
      ],
      "text/plain": [
       "     VisitID  PatientMRN  ProviderID DateofVisit           DateScheduled  \\\n",
       "236      933         884          27  2019-02-14 2019-01-22 19:26:49.163   \n",
       "251      888         906          24  2019-03-31 2019-03-17 23:21:17.361   \n",
       "424      314          63           7  2019-04-05 2019-03-24 22:31:26.092   \n",
       "432      740         892          31  2019-03-14 2019-03-11 15:08:33.963   \n",
       "677      929         880          23  2019-02-10 2019-01-22 13:32:14.549   \n",
       "869      839         857          12  2019-03-17 2019-02-23 09:05:43.676   \n",
       "934      482         866          14  2019-05-04 2019-04-13 07:54:49.580   \n",
       "\n",
       "     VisitDepartmentID     VisitType  BloodPressureSystolic  \\\n",
       "236                 12  Telemedicine                  190.0   \n",
       "251                 10           New                  190.0   \n",
       "424                 11  Telemedicine                  190.0   \n",
       "432                  8      Physical                  190.0   \n",
       "677                  8     Follow Up                  190.0   \n",
       "869                  8     Follow Up                  190.0   \n",
       "934                  5           New                  190.0   \n",
       "\n",
       "     BloodPressureDiastolic      Pulse VisitStatus  \n",
       "236              143.989174  74.976879   Completed  \n",
       "251              137.207999  52.666922   Completed  \n",
       "424              121.539859  95.471260   Completed  \n",
       "432              145.343479  94.849021   Completed  \n",
       "677              144.313400  82.781940   Completed  \n",
       "869              130.997386  71.829542   Completed  \n",
       "934              124.736359  69.731779    Canceled  "
      ]
     },
     "execution_count": 11,
     "metadata": {},
     "output_type": "execute_result"
    }
   ],
   "source": [
    "max_value = AmbulatoryVisits[\"BloodPressureSystolic\"].max()\n",
    "AmbulatoryVisits.loc[AmbulatoryVisits[\"BloodPressureSystolic\"] == max_value]"
   ]
  },
  {
   "cell_type": "markdown",
   "id": "6aad3d1f",
   "metadata": {},
   "source": [
    "### 48. Display the average LOS based on Service and Discharge Disposition(Maintain the column Hierarchy)"
   ]
  },
  {
   "cell_type": "code",
   "execution_count": 12,
   "id": "c81498ac",
   "metadata": {},
   "outputs": [
    {
     "data": {
      "text/plain": [
       "DischargeDisposition  Service         \n",
       "Expired               Cardiology          9 days 08:35:16.352066666\n",
       "                      General Medicine    8 days 23:20:11.814888888\n",
       "                      Hospitalist           10 days 14:06:42.815200\n",
       "                      ICU                 9 days 18:58:35.305965517\n",
       "                      Neurology          10 days 15:37:05.725148148\n",
       "                      Orthopeadics          12 days 07:51:48.451200\n",
       "Home                  Cardiology            10 days 15:12:46.317720\n",
       "                      General Medicine   10 days 07:09:33.605737991\n",
       "                      Hospitalist         9 days 12:31:51.489784090\n",
       "                      ICU                 9 days 13:48:53.376454545\n",
       "                      Neurology           9 days 16:15:31.363138888\n",
       "                      Orthopeadics        9 days 07:48:01.454282051\n",
       "Transfer              Cardiology            11 days 18:14:12.311200\n",
       "                      General Medicine   11 days 01:49:20.759312500\n",
       "                      Hospitalist         9 days 05:58:16.399666666\n",
       "                      ICU                 9 days 11:31:02.812833333\n",
       "                      Neurology             12 days 06:16:15.316000\n",
       "                      Orthopeadics          16 days 13:26:16.066000\n",
       "Name: LOS, dtype: timedelta64[ns]"
      ]
     },
     "execution_count": 12,
     "metadata": {},
     "output_type": "execute_result"
    }
   ],
   "source": [
    "ReAdmissionRegistry = pd.read_excel(\"HospitalDatabase.xlsx\",sheet_name= \"ReAdmissionRegistry\")\n",
    "ReAdmissionRegistry[\"LOS\"]= ReAdmissionRegistry[\"DischargeDate\"] - ReAdmissionRegistry[\"AdmissionDate\"]\n",
    "ReAdmissionRegistry.head()\n",
    "ReAdmissionRegistry.groupby([\"DischargeDisposition\",\"Service\"])[\"LOS\"].mean()"
   ]
  },
  {
   "cell_type": "markdown",
   "id": "4b815aee",
   "metadata": {},
   "source": [
    "### 49. Create a jointplot between expected mortality & expected length of stay"
   ]
  },
  {
   "cell_type": "code",
   "execution_count": 13,
   "id": "cb7bff31",
   "metadata": {},
   "outputs": [
    {
     "data": {
      "image/png": "[encoded data removed]",
      "text/plain": [
       "<Figure size 432x432 with 3 Axes>"
      ]
     },
     "metadata": {
      "needs_background": "light"
     },
     "output_type": "display_data"
    }
   ],
   "source": [
    "ReAdmissionRegistry = pd.read_excel(\"HospitalDatabase.xlsx\",sheet_name= \"ReAdmissionRegistry\")\n",
    "sns.jointplot(x = \"ExpectedLOS\", y = \"ExpectedMortality\", kind = \"scatter\", data = ReAdmissionRegistry)\n",
    "plt.show()"
   ]
  },
  {
   "cell_type": "markdown",
   "id": "1929b0b4",
   "metadata": {},
   "source": [
    "### 50. Which departmentID has maximum number of visits scheduled."
   ]
  },
  {
   "cell_type": "code",
   "execution_count": 14,
   "id": "56bc403a",
   "metadata": {},
   "outputs": [
    {
     "data": {
      "text/plain": [
       "11    102\n",
       "Name: VisitDepartmentID, dtype: int64"
      ]
     },
     "execution_count": 14,
     "metadata": {},
     "output_type": "execute_result"
    }
   ],
   "source": [
    "max_visit_schedule = pd.read_excel(\"HospitalDatabase.xlsx\",sheet_name= \"AmbulatoryVisits\")\n",
    "max_visit_schedule.head()\n",
    "max_visit_schedule[\"VisitDepartmentID\"].value_counts()[:1]"
   ]
  },
  {
   "cell_type": "markdown",
   "id": "231c57ab",
   "metadata": {},
   "source": [
    "### 51. Display patient details where \"ReasonForVisit\" is either 'Migraine' or 'Pneumonia' and Acuity is 2 or more."
   ]
  },
  {
   "cell_type": "code",
   "execution_count": 15,
   "id": "028c0db3",
   "metadata": {},
   "outputs": [
    {
     "data": {
      "text/html": [
       "<div>\n",
       "<style scoped>\n",
       "    .dataframe tbody tr th:only-of-type {\n",
       "        vertical-align: middle;\n",
       "    }\n",
       "\n",
       "    .dataframe tbody tr th {\n",
       "        vertical-align: top;\n",
       "    }\n",
       "\n",
       "    .dataframe thead th {\n",
       "        text-align: right;\n",
       "    }\n",
       "</style>\n",
       "<table border=\"1\" class=\"dataframe\">\n",
       "  <thead>\n",
       "    <tr style=\"text-align: right;\">\n",
       "      <th></th>\n",
       "      <th>EDVisitID</th>\n",
       "      <th>PatientID</th>\n",
       "      <th>VisitDate</th>\n",
       "      <th>EDDischargeTime</th>\n",
       "      <th>Acuity</th>\n",
       "      <th>ReasonForVisit</th>\n",
       "      <th>EDDisposition</th>\n",
       "    </tr>\n",
       "  </thead>\n",
       "  <tbody>\n",
       "    <tr>\n",
       "      <th>1</th>\n",
       "      <td>12</td>\n",
       "      <td>12</td>\n",
       "      <td>2020-01-01 02:45:40.302</td>\n",
       "      <td>2020-01-02 02:00:00.517</td>\n",
       "      <td>2</td>\n",
       "      <td>Migraine</td>\n",
       "      <td>Admitted</td>\n",
       "    </tr>\n",
       "    <tr>\n",
       "      <th>3</th>\n",
       "      <td>14</td>\n",
       "      <td>14</td>\n",
       "      <td>2020-01-01 03:12:19.349</td>\n",
       "      <td>2020-01-01 04:32:29.142</td>\n",
       "      <td>3</td>\n",
       "      <td>Migraine</td>\n",
       "      <td>Admitted</td>\n",
       "    </tr>\n",
       "    <tr>\n",
       "      <th>11</th>\n",
       "      <td>29</td>\n",
       "      <td>29</td>\n",
       "      <td>2020-01-01 06:51:28.639</td>\n",
       "      <td>2020-01-02 05:57:01.639</td>\n",
       "      <td>2</td>\n",
       "      <td>Pneumonia</td>\n",
       "      <td>Admitted</td>\n",
       "    </tr>\n",
       "    <tr>\n",
       "      <th>12</th>\n",
       "      <td>30</td>\n",
       "      <td>30</td>\n",
       "      <td>2020-01-01 07:25:54.177</td>\n",
       "      <td>2020-01-01 23:30:20.151</td>\n",
       "      <td>3</td>\n",
       "      <td>Pneumonia</td>\n",
       "      <td>Admitted</td>\n",
       "    </tr>\n",
       "    <tr>\n",
       "      <th>13</th>\n",
       "      <td>31</td>\n",
       "      <td>31</td>\n",
       "      <td>2020-01-01 07:32:51.917</td>\n",
       "      <td>2020-01-01 19:55:46.991</td>\n",
       "      <td>4</td>\n",
       "      <td>Pneumonia</td>\n",
       "      <td>Admitted</td>\n",
       "    </tr>\n",
       "    <tr>\n",
       "      <th>...</th>\n",
       "      <td>...</td>\n",
       "      <td>...</td>\n",
       "      <td>...</td>\n",
       "      <td>...</td>\n",
       "      <td>...</td>\n",
       "      <td>...</td>\n",
       "      <td>...</td>\n",
       "    </tr>\n",
       "    <tr>\n",
       "      <th>853</th>\n",
       "      <td>1027</td>\n",
       "      <td>773</td>\n",
       "      <td>2020-01-13 15:27:07.001</td>\n",
       "      <td>2020-01-14 13:27:31.778</td>\n",
       "      <td>2</td>\n",
       "      <td>Migraine</td>\n",
       "      <td>Discharged</td>\n",
       "    </tr>\n",
       "    <tr>\n",
       "      <th>896</th>\n",
       "      <td>1104</td>\n",
       "      <td>850</td>\n",
       "      <td>2020-01-14 10:46:08.650</td>\n",
       "      <td>2020-01-14 20:52:26.031</td>\n",
       "      <td>2</td>\n",
       "      <td>Migraine</td>\n",
       "      <td>Discharged</td>\n",
       "    </tr>\n",
       "    <tr>\n",
       "      <th>898</th>\n",
       "      <td>1106</td>\n",
       "      <td>852</td>\n",
       "      <td>2020-01-14 11:19:41.401</td>\n",
       "      <td>2020-01-15 02:47:17.353</td>\n",
       "      <td>2</td>\n",
       "      <td>Migraine</td>\n",
       "      <td>Discharged</td>\n",
       "    </tr>\n",
       "    <tr>\n",
       "      <th>906</th>\n",
       "      <td>1122</td>\n",
       "      <td>868</td>\n",
       "      <td>2020-01-14 15:05:58.777</td>\n",
       "      <td>2020-01-15 13:53:02.550</td>\n",
       "      <td>2</td>\n",
       "      <td>Migraine</td>\n",
       "      <td>Discharged</td>\n",
       "    </tr>\n",
       "    <tr>\n",
       "      <th>908</th>\n",
       "      <td>1124</td>\n",
       "      <td>870</td>\n",
       "      <td>2020-01-14 15:31:20.038</td>\n",
       "      <td>2020-01-15 10:28:29.406</td>\n",
       "      <td>2</td>\n",
       "      <td>Migraine</td>\n",
       "      <td>Discharged</td>\n",
       "    </tr>\n",
       "  </tbody>\n",
       "</table>\n",
       "<p>182 rows × 7 columns</p>\n",
       "</div>"
      ],
      "text/plain": [
       "     EDVisitID  PatientID               VisitDate         EDDischargeTime  \\\n",
       "1           12         12 2020-01-01 02:45:40.302 2020-01-02 02:00:00.517   \n",
       "3           14         14 2020-01-01 03:12:19.349 2020-01-01 04:32:29.142   \n",
       "11          29         29 2020-01-01 06:51:28.639 2020-01-02 05:57:01.639   \n",
       "12          30         30 2020-01-01 07:25:54.177 2020-01-01 23:30:20.151   \n",
       "13          31         31 2020-01-01 07:32:51.917 2020-01-01 19:55:46.991   \n",
       "..         ...        ...                     ...                     ...   \n",
       "853       1027        773 2020-01-13 15:27:07.001 2020-01-14 13:27:31.778   \n",
       "896       1104        850 2020-01-14 10:46:08.650 2020-01-14 20:52:26.031   \n",
       "898       1106        852 2020-01-14 11:19:41.401 2020-01-15 02:47:17.353   \n",
       "906       1122        868 2020-01-14 15:05:58.777 2020-01-15 13:53:02.550   \n",
       "908       1124        870 2020-01-14 15:31:20.038 2020-01-15 10:28:29.406   \n",
       "\n",
       "     Acuity ReasonForVisit EDDisposition  \n",
       "1         2       Migraine      Admitted  \n",
       "3         3       Migraine      Admitted  \n",
       "11        2      Pneumonia      Admitted  \n",
       "12        3      Pneumonia      Admitted  \n",
       "13        4      Pneumonia      Admitted  \n",
       "..      ...            ...           ...  \n",
       "853       2       Migraine    Discharged  \n",
       "896       2       Migraine    Discharged  \n",
       "898       2       Migraine    Discharged  \n",
       "906       2       Migraine    Discharged  \n",
       "908       2       Migraine    Discharged  \n",
       "\n",
       "[182 rows x 7 columns]"
      ]
     },
     "execution_count": 15,
     "metadata": {},
     "output_type": "execute_result"
    }
   ],
   "source": [
    "EDUnique = pd.read_excel(\"HospitalDatabase.xlsx\",sheet_name= \"EDUnique\")\n",
    "EDUnique.head()\n",
    "EDUnique[(EDUnique[\"ReasonForVisit\"].isin([\"Migraine\",\"Pneumonia\"])) & (EDUnique[\"Acuity\"] >= 2)]"
   ]
  },
  {
   "cell_type": "markdown",
   "id": "11a0a029",
   "metadata": {},
   "source": [
    "### 52. Retrieve the row with minimum DBP using sorting technique"
   ]
  },
  {
   "cell_type": "code",
   "execution_count": 16,
   "id": "bcffd687",
   "metadata": {},
   "outputs": [
    {
     "data": {
      "text/html": [
       "<div>\n",
       "<style scoped>\n",
       "    .dataframe tbody tr th:only-of-type {\n",
       "        vertical-align: middle;\n",
       "    }\n",
       "\n",
       "    .dataframe tbody tr th {\n",
       "        vertical-align: top;\n",
       "    }\n",
       "\n",
       "    .dataframe thead th {\n",
       "        text-align: right;\n",
       "    }\n",
       "</style>\n",
       "<table border=\"1\" class=\"dataframe\">\n",
       "  <thead>\n",
       "    <tr style=\"text-align: right;\">\n",
       "      <th></th>\n",
       "      <th>VisitID</th>\n",
       "      <th>PatientMRN</th>\n",
       "      <th>ProviderID</th>\n",
       "      <th>DateofVisit</th>\n",
       "      <th>DateScheduled</th>\n",
       "      <th>VisitDepartmentID</th>\n",
       "      <th>VisitType</th>\n",
       "      <th>BloodPressureSystolic</th>\n",
       "      <th>BloodPressureDiastolic</th>\n",
       "      <th>Pulse</th>\n",
       "      <th>VisitStatus</th>\n",
       "    </tr>\n",
       "  </thead>\n",
       "  <tbody>\n",
       "    <tr>\n",
       "      <th>757</th>\n",
       "      <td>163</td>\n",
       "      <td>801</td>\n",
       "      <td>11</td>\n",
       "      <td>2019-02-08</td>\n",
       "      <td>2019-02-07 23:41:12.181</td>\n",
       "      <td>7</td>\n",
       "      <td>Follow Up</td>\n",
       "      <td>120.0</td>\n",
       "      <td>51.695653</td>\n",
       "      <td>53.310495</td>\n",
       "      <td>Completed</td>\n",
       "    </tr>\n",
       "  </tbody>\n",
       "</table>\n",
       "</div>"
      ],
      "text/plain": [
       "     VisitID  PatientMRN  ProviderID DateofVisit           DateScheduled  \\\n",
       "757      163         801          11  2019-02-08 2019-02-07 23:41:12.181   \n",
       "\n",
       "     VisitDepartmentID  VisitType  BloodPressureSystolic  \\\n",
       "757                  7  Follow Up                  120.0   \n",
       "\n",
       "     BloodPressureDiastolic      Pulse VisitStatus  \n",
       "757               51.695653  53.310495   Completed  "
      ]
     },
     "execution_count": 16,
     "metadata": {},
     "output_type": "execute_result"
    }
   ],
   "source": [
    "AmbulatoryVisits = pd.read_excel(\"HospitalDatabase.xlsx\",sheet_name= \"AmbulatoryVisits\")\n",
    "df_sort = AmbulatoryVisits.sort_values(by=[\"BloodPressureDiastolic\"])\n",
    "df_sort.head(1)"
   ]
  },
  {
   "cell_type": "markdown",
   "id": "9e3a0b18",
   "metadata": {},
   "source": [
    "### 53. Take the ReasonForVisit from user, find the number of patients admitted with that ReasonForVisit"
   ]
  },
  {
   "cell_type": "code",
   "execution_count": 17,
   "id": "39b7e96f",
   "metadata": {},
   "outputs": [
    {
     "name": "stdout",
     "output_type": "stream",
     "text": [
      "Enter Reason for visit :Chest Pain\n",
      "91\n"
     ]
    }
   ],
   "source": [
    "def reasoncount(reason):\n",
    "    EDUnique = pd.read_excel(\"HospitalDatabase.xlsx\",sheet_name= \"EDUnique\")\n",
    "    displaycount = EDUnique[EDUnique[\"ReasonForVisit\"]== reason][\"ReasonForVisit\"].count()\n",
    "    print(displaycount)\n",
    "    \n",
    "    \n",
    "    \n",
    "def  EnterReason():\n",
    "    reason = input(\"Enter Reason for visit :\")\n",
    "    reasoncount(reason)\n",
    "    \n",
    "EnterReason() \n",
    "\n"
   ]
  },
  {
   "cell_type": "markdown",
   "id": "81e0c447",
   "metadata": {},
   "source": [
    "### 54. Mortality O.E"
   ]
  },
  {
   "cell_type": "code",
   "execution_count": 18,
   "id": "09cb6c86",
   "metadata": {},
   "outputs": [
    {
     "data": {
      "text/plain": [
       "0.4272709474250124"
      ]
     },
     "execution_count": 18,
     "metadata": {},
     "output_type": "execute_result"
    }
   ],
   "source": [
    "ReAdmissionRegistry = pd.read_excel(\"HospitalDatabase.xlsx\",sheet_name= \"ReAdmissionRegistry\")\n",
    "sum_of_mortality = (ReAdmissionRegistry[ReAdmissionRegistry[\"DischargeDisposition\"]==\"Expired\"][\"DischargeDisposition\"].count())\n",
    "sum_of_mortality / (ReAdmissionRegistry[\"ExpectedMortality\"].sum())"
   ]
  },
  {
   "cell_type": "markdown",
   "id": "324e5309",
   "metadata": {},
   "source": [
    "### 55. Create a bar chart on service & expected length of stay"
   ]
  },
  {
   "cell_type": "code",
   "execution_count": 75,
   "id": "50d93f21",
   "metadata": {},
   "outputs": [
    {
     "data": {
      "image/png": "[encoded data removed]",
      "text/plain": [
       "<Figure size 432x288 with 1 Axes>"
      ]
     },
     "metadata": {
      "needs_background": "light"
     },
     "output_type": "display_data"
    }
   ],
   "source": [
    "Discharges = pd.read_excel(\"HospitalDatabase.xlsx\",sheet_name= \"Discharges\")\n",
    "# print(Discharges.head())\n",
    "# sns.barplot(y = \"Service\", x = \"ExpectedLOS\",data = Discharges)\n",
    "# plt.show()\n",
    "\n",
    "# fig = plt.figure()\n",
    "# ax = fig.add_axes([0,0,1,1])\n",
    "# langs = Discharges[\"Service\"]\n",
    "# students = Discharges[\"ExpectedLOS\"]\n",
    "# ax.bar(langs,students)\n",
    "# plt.show()\n",
    "\n",
    "# exp_mor = df['Discharges'].groupby(['Service']).agg({'ExpectedMortality': 'count'}).sort_values('ExpectedMortality', ascending = True)\n",
    "# exp_mor.plot.bar(color = 'orange', edgecolor = 'black')\n",
    "# plt.title('Bar Plot of Service and Count of Expected Mortality')\n",
    "# plt.xlabel('Service')\n",
    "# plt.ylabel('count of expected mortality')\n",
    "# plt.show()\n",
    "\n",
    "exp_mor = Discharges.groupby(['Service']).agg({'ExpectedLOS': 'count'})\n",
    "exp_mor.plot.bar(color = 'orange', edgecolor = 'black')\n",
    "plt.title('Bar chart on service & expected length of stay')\n",
    "plt.xlabel('Service')\n",
    "plt.ylabel('Count of ExpectedLOS')\n",
    "plt.show()"
   ]
  },
  {
   "cell_type": "markdown",
   "id": "d478a661",
   "metadata": {},
   "source": [
    "### 56. Count of canceled status"
   ]
  },
  {
   "cell_type": "code",
   "execution_count": 20,
   "id": "9911845f",
   "metadata": {},
   "outputs": [
    {
     "data": {
      "text/plain": [
       "VisitStatus\n",
       "Canceled    60\n",
       "Name: VisitID, dtype: int64"
      ]
     },
     "execution_count": 20,
     "metadata": {},
     "output_type": "execute_result"
    }
   ],
   "source": [
    "AmbulatoryVisits = pd.read_excel(\"HospitalDatabase.xlsx\",sheet_name= \"AmbulatoryVisits\")\n",
    "AmbulatoryVisits.groupby([\"VisitStatus\"])[\"VisitID\"].count()[:1]"
   ]
  },
  {
   "cell_type": "markdown",
   "id": "b3df62da",
   "metadata": {},
   "source": [
    "### 57. Find the age prone to get stroke"
   ]
  },
  {
   "cell_type": "code",
   "execution_count": 58,
   "id": "bfa3b89f",
   "metadata": {},
   "outputs": [
    {
     "name": "stdout",
     "output_type": "stream",
     "text": [
      "Age prone to get stroke between 35.484025697959424 and 62.129419981887736\n"
     ]
    }
   ],
   "source": [
    "Patients = pd.read_excel(\"HospitalDatabase.xlsx\",sheet_name= \"Patients\") \n",
    "now = datetime.now()\n",
    "Patients[\"Age\"] =(now - Patients['DateOfBirth'])/np.timedelta64(1,'Y')\n",
    "Patients.head()\n",
    "ReAdmissionRegistry = pd.read_excel(\"HospitalDatabase.xlsx\",sheet_name= \"ReAdmissionRegistry\")\n",
    "df = pd.merge(Patients, ReAdmissionRegistry,how='inner',on=[\"PatientID\"])\n",
    "a = df[df[\"PrimaryDiagnosis\"] == \"Stroke\"]\n",
    "min_val = a[\"Age\"].min()\n",
    "max_val = a[\"Age\"].max()\n",
    "print(\"Age prone to get stroke between {0} and {1}\".format(min_val,max_val))"
   ]
  },
  {
   "cell_type": "markdown",
   "id": "bd061647",
   "metadata": {},
   "source": [
    "### 58. Display total count of patients service wise based on gender\n"
   ]
  },
  {
   "cell_type": "code",
   "execution_count": 22,
   "id": "52930282",
   "metadata": {},
   "outputs": [
    {
     "data": {
      "text/plain": [
       "Service           Gender\n",
       "Cardiology        Female     41\n",
       "                  Male       54\n",
       "General Medicine  Female    114\n",
       "                  Male      149\n",
       "Hospitalist       Female     35\n",
       "                  Male       66\n",
       "ICU               Female     65\n",
       "                  Male       86\n",
       "Neurology         Female     34\n",
       "                  Male       31\n",
       "Orthopeadics      Female     22\n",
       "                  Male       23\n",
       "Name: PatientID, dtype: int64"
      ]
     },
     "execution_count": 22,
     "metadata": {},
     "output_type": "execute_result"
    }
   ],
   "source": [
    "Patients = pd.read_excel(\"HospitalDatabase.xlsx\",sheet_name= \"Patients\") \n",
    "Discharges = pd.read_excel(\"HospitalDatabase.xlsx\",sheet_name= \"Discharges\")\n",
    "df = pd.merge(Patients, Discharges,how='inner',on=[\"PatientID\"])\n",
    "df.groupby([\"Service\",\"Gender\"])[\"PatientID\"].count()"
   ]
  },
  {
   "cell_type": "markdown",
   "id": "71b27fad",
   "metadata": {},
   "source": [
    "### 59. Create a dataframe by splitting provider name to firstname and lastname with names for the columns"
   ]
  },
  {
   "cell_type": "code",
   "execution_count": 23,
   "id": "3f805d76",
   "metadata": {},
   "outputs": [
    {
     "data": {
      "text/html": [
       "<div>\n",
       "<style scoped>\n",
       "    .dataframe tbody tr th:only-of-type {\n",
       "        vertical-align: middle;\n",
       "    }\n",
       "\n",
       "    .dataframe tbody tr th {\n",
       "        vertical-align: top;\n",
       "    }\n",
       "\n",
       "    .dataframe thead th {\n",
       "        text-align: right;\n",
       "    }\n",
       "</style>\n",
       "<table border=\"1\" class=\"dataframe\">\n",
       "  <thead>\n",
       "    <tr style=\"text-align: right;\">\n",
       "      <th></th>\n",
       "      <th>ProviderID</th>\n",
       "      <th>ProviderName</th>\n",
       "      <th>ProviderSpecialty</th>\n",
       "      <th>ProviderDateOnStaff</th>\n",
       "      <th>Firstname</th>\n",
       "      <th>Lastname</th>\n",
       "    </tr>\n",
       "  </thead>\n",
       "  <tbody>\n",
       "    <tr>\n",
       "      <th>0</th>\n",
       "      <td>1</td>\n",
       "      <td>Sally Sue</td>\n",
       "      <td>Pediatrics</td>\n",
       "      <td>1993-01-01 00:00:00.000</td>\n",
       "      <td>Sally</td>\n",
       "      <td>Sue</td>\n",
       "    </tr>\n",
       "    <tr>\n",
       "      <th>1</th>\n",
       "      <td>2</td>\n",
       "      <td>Mike Myers</td>\n",
       "      <td>Pediatrics</td>\n",
       "      <td>1993-05-02 00:00:17.695</td>\n",
       "      <td>Mike</td>\n",
       "      <td>Myers</td>\n",
       "    </tr>\n",
       "    <tr>\n",
       "      <th>2</th>\n",
       "      <td>3</td>\n",
       "      <td>Jordan Michael</td>\n",
       "      <td>Pediatrics</td>\n",
       "      <td>1993-06-24 21:31:46.687</td>\n",
       "      <td>Jordan</td>\n",
       "      <td>Michael</td>\n",
       "    </tr>\n",
       "    <tr>\n",
       "      <th>3</th>\n",
       "      <td>4</td>\n",
       "      <td>Ted Texas</td>\n",
       "      <td>Pediatrics</td>\n",
       "      <td>1993-12-23 21:33:52.299</td>\n",
       "      <td>Ted</td>\n",
       "      <td>Texas</td>\n",
       "    </tr>\n",
       "    <tr>\n",
       "      <th>4</th>\n",
       "      <td>5</td>\n",
       "      <td>Ala Bama</td>\n",
       "      <td>Pediatrics</td>\n",
       "      <td>1995-01-10 02:53:47.838</td>\n",
       "      <td>Ala</td>\n",
       "      <td>Bama</td>\n",
       "    </tr>\n",
       "  </tbody>\n",
       "</table>\n",
       "</div>"
      ],
      "text/plain": [
       "   ProviderID    ProviderName ProviderSpecialty     ProviderDateOnStaff  \\\n",
       "0           1       Sally Sue        Pediatrics 1993-01-01 00:00:00.000   \n",
       "1           2      Mike Myers        Pediatrics 1993-05-02 00:00:17.695   \n",
       "2           3  Jordan Michael        Pediatrics 1993-06-24 21:31:46.687   \n",
       "3           4       Ted Texas        Pediatrics 1993-12-23 21:33:52.299   \n",
       "4           5        Ala Bama        Pediatrics 1995-01-10 02:53:47.838   \n",
       "\n",
       "  Firstname Lastname  \n",
       "0     Sally      Sue  \n",
       "1      Mike    Myers  \n",
       "2    Jordan  Michael  \n",
       "3       Ted    Texas  \n",
       "4       Ala     Bama  "
      ]
     },
     "execution_count": 23,
     "metadata": {},
     "output_type": "execute_result"
    }
   ],
   "source": [
    "df = pd.read_excel(\"/Users/salinipalanisamy/Downloads/HospitalDatabase.xlsx\",sheet_name=\"Providers\")\n",
    "\n",
    "df[['Firstname','Lastname']] = df[\"ProviderName\"].str.split(expand=True)\n",
    "df.head()"
   ]
  },
  {
   "cell_type": "markdown",
   "id": "b77f6fbd",
   "metadata": {},
   "source": [
    "### 60. Predict the output of the program.."
   ]
  },
  {
   "cell_type": "code",
   "execution_count": 60,
   "id": "22e11248",
   "metadata": {},
   "outputs": [
    {
     "name": "stdout",
     "output_type": "stream",
     "text": [
      "111\n"
     ]
    }
   ],
   "source": [
    "class Acc: \n",
    "    def __init__(self, id): \n",
    "        self.id = id\n",
    "        id = 555 \n",
    "       \n",
    "    \n",
    "acc = Acc(111) \n",
    "print(acc.id)\n",
    "\n"
   ]
  },
  {
   "cell_type": "code",
   "execution_count": null,
   "id": "fc7d07dc",
   "metadata": {},
   "outputs": [],
   "source": []
  }
 ],
 "metadata": {
  "kernelspec": {
   "display_name": "Python 3 (ipykernel)",
   "language": "python",
   "name": "python3"
  },
  "language_info": {
   "codemirror_mode": {
    "name": "ipython",
    "version": 3
   },
   "file_extension": ".py",
   "mimetype": "text/x-python",
   "name": "python",
   "nbconvert_exporter": "python",
   "pygments_lexer": "ipython3",
   "version": "3.9.7"
  }
 },
 "nbformat": 4,
 "nbformat_minor": 5
}
